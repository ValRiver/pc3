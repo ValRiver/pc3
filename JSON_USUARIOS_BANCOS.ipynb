{
  "nbformat": 4,
  "nbformat_minor": 0,
  "metadata": {
    "colab": {
      "name": "JSON USUARIOS_BANCOS.ipynb",
      "provenance": []
    },
    "kernelspec": {
      "name": "python3",
      "display_name": "Python 3"
    },
    "language_info": {
      "name": "python"
    }
  },
  "cells": [
    {
      "cell_type": "markdown",
      "source": [
        "\n",
        "## Se esta creando un formato Json para la extraccion de datos de los usuarios \n",
        "\n"
      ],
      "metadata": {
        "id": "YgF76fsRi5Jm"
      }
    },
    {
      "cell_type": "code",
      "execution_count": 7,
      "metadata": {
        "id": "cImQ_iEvdBIl"
      },
      "outputs": [],
      "source": [
        "data='''{\"BANCOS\":\n",
        " [\n",
        "  {\"BCP\":\n",
        "   [\n",
        "    {\"Nombre\":\"Maria Fernandez\",\"deuda\":500,\"Sexo\":\"F\",\"DNI\":58429623,\"Distrito\":\"La Molina\",\"Edad\":28},\n",
        "    {\"Nombre\":\"Manuel Hurtado\",\"deuda\":1000,\"Sexo\":\"M\",\"DNI\":48963552,\"Distrito\":\"San Borja\",\"Edad\":56},\n",
        "    {\"Nombre\":\"Luis Torres\",\"deuda\":3500,\"Sexo\":\"M\",\"DNI\":46583533,\"Distrito\":\"Lince\",\"Edad\":36}\n",
        "   ]\n",
        "  },\n",
        "  {\"FALABELLA\":\n",
        "   [\n",
        "    {\"Nombre\":\"Carlos Sheron \",\"deuda\":2600,\"Sexo\":\"M\",\"DNI\":10587880,\"Distrito\":\"San Juan de Miraflores\",\"Edad\":26},\n",
        "    {\"Nombre\":\"Ana Martinez\",\"deuda\":850,\"Sexo\":\"F\",\"DNI\":18965045,\"Distrito\":\"Surco\",\"Edad\":30},\n",
        "    {\"Nombre\":\"Teresa Sanchez\",\"deuda\":3000,\"Sexo\":\"F\",\"DNI\":70582630,\"Distrito\":\"El Agustino\",\"Edad\":41}\n",
        "   ]\n",
        "  },\n",
        "  {\"AZTECA\":\n",
        "   [\n",
        "    {\"Nombre\":\"Vannesa Figueroa\",\"deuda\":2300,\"Sexo\":\"F\",\"DNI\":46259782,\"Distrito\":\"Santa Anita\",\"Edad\":30},\n",
        "    {\"Nombre\":\"Claudia Peralta\",\"deuda\":1500,\"Sexo\":\"F\",\"DNI\":26413020,\"Distrito\":\"Chaclacayo\",\"Edad\":29},\n",
        "    {\"Nombre\":\"Santiago Ramirez\",\"deuda\":1800,\"Sexo\":\"M\",\"DNI\":10587880,\"Distrito\":\"Chorrillos\",\"Edad\":64} \n",
        "   ]\n",
        "  },\n",
        "  {\"PICHINCHA\":\n",
        "   [\n",
        "    {\"Nombre\":\"Waldir Llanos\",\"deuda\":4500,\"Sexo\":\"F\",\"DNI\":58472568,\"Distrito\":\"Ate\",\"Edad\":53},\n",
        "    {\"Nombre\":\"Fernanda Casas\",\"deuda\":7300,\"Sexo\":\"F\",\"DNI\":66457892,\"Distrito\":\"Carabyllo\",\"Edad\":39},\n",
        "    {\"Nombre\":\"Roberto Garcia\",\"deuda\":2100,\"Sexo\":\"M\",\"DNI\":21549687,\"Distrito\":\"Breña\",\"Edad\":58} \n",
        "   ]\n",
        "  }\n",
        "  \n",
        " ]\n",
        "}\n",
        "'''"
      ]
    },
    {
      "cell_type": "code",
      "source": [
        "import json\n",
        "#Nos imprime en pantalla data como un tipo de dato nativo.\n",
        "print ('DATA:', repr(data))\n",
        "\n",
        "#Nos devuelve el String con el JSON\n",
        "datos = json.dumps(data)\n",
        "print ('JSON:', datos)\n"
      ],
      "metadata": {
        "colab": {
          "base_uri": "https://localhost:8080/"
        },
        "id": "TFZRRUd_nXWT",
        "outputId": "ca620fa6-d39a-4e2b-c26b-5c2e16c2f7c2"
      },
      "execution_count": 8,
      "outputs": [
        {
          "output_type": "stream",
          "name": "stdout",
          "text": [
            "DATA: '{\"BANCOS\":\\n [\\n  {\"BCP\":\\n   [\\n    {\"Nombre\":\"Maria Fernandez\",\"deuda\":500,\"Sexo\":\"F\",\"DNI\":58429623,\"Distrito\":\"La Molina\",\"Edad\":28},\\n    {\"Nombre\":\"Manuel Hurtado\",\"deuda\":1000,\"Sexo\":\"M\",\"DNI\":48963552,\"Distrito\":\"San Borja\",\"Edad\":56},\\n    {\"Nombre\":\"Luis Torres\",\"deuda\":3500,\"Sexo\":\"M\",\"DNI\":46583533,\"Distrito\":\"Lince\",\"Edad\":36}\\n   ]\\n  },\\n  {\"FALABELLA\":\\n   [\\n    {\"Nombre\":\"Carlos Sheron \",\"deuda\":2600,\"Sexo\":\"M\",\"DNI\":10587880,\"Distrito\":\"San Juan de Miraflores\",\"Edad\":26},\\n    {\"Nombre\":\"Ana Martinez\",\"deuda\":850,\"Sexo\":\"F\",\"DNI\":18965045,\"Distrito\":\"Surco\",\"Edad\":30},\\n    {\"Nombre\":\"Teresa Sanchez\",\"deuda\":3000,\"Sexo\":\"F\",\"DNI\":70582630,\"Distrito\":\"El Agustino\",\"Edad\":41}\\n   ]\\n  },\\n  {\"AZTECA\":\\n   [\\n    {\"Nombre\":\"Vannesa Figueroa\",\"deuda\":2300,\"Sexo\":\"F\",\"DNI\":46259782,\"Distrito\":\"Santa Anita\",\"Edad\":30},\\n    {\"Nombre\":\"Claudia Peralta\",\"deuda\":1500,\"Sexo\":\"F\",\"DNI\":26413020,\"Distrito\":\"Chaclacayo\",\"Edad\":29},\\n    {\"Nombre\":\"Santiago Ramirez\",\"deuda\":1800,\"Sexo\":\"M\",\"DNI\":10587880,\"Distrito\":\"Chorrillos\",\"Edad\":64} \\n   ]\\n  },\\n  {\"PICHINCHA\":\\n   [\\n    {\"Nombre\":\"Waldir Llanos\",\"deuda\":4500,\"Sexo\":\"F\",\"DNI\":58472568,\"Distrito\":\"Ate\",\"Edad\":53},\\n    {\"Nombre\":\"Fernanda Casas\",\"deuda\":7300,\"Sexo\":\"F\",\"DNI\":66457892,\"Distrito\":\"Carabyllo\",\"Edad\":39},\\n    {\"Nombre\":\"Roberto Garcia\",\"deuda\":2100,\"Sexo\":\"M\",\"DNI\":21549687,\"Distrito\":\"Breña\",\"Edad\":58} \\n   ]\\n  }\\n  \\n ]\\n}\\n'\n",
            "JSON: \"{\\\"BANCOS\\\":\\n [\\n  {\\\"BCP\\\":\\n   [\\n    {\\\"Nombre\\\":\\\"Maria Fernandez\\\",\\\"deuda\\\":500,\\\"Sexo\\\":\\\"F\\\",\\\"DNI\\\":58429623,\\\"Distrito\\\":\\\"La Molina\\\",\\\"Edad\\\":28},\\n    {\\\"Nombre\\\":\\\"Manuel Hurtado\\\",\\\"deuda\\\":1000,\\\"Sexo\\\":\\\"M\\\",\\\"DNI\\\":48963552,\\\"Distrito\\\":\\\"San Borja\\\",\\\"Edad\\\":56},\\n    {\\\"Nombre\\\":\\\"Luis Torres\\\",\\\"deuda\\\":3500,\\\"Sexo\\\":\\\"M\\\",\\\"DNI\\\":46583533,\\\"Distrito\\\":\\\"Lince\\\",\\\"Edad\\\":36}\\n   ]\\n  },\\n  {\\\"FALABELLA\\\":\\n   [\\n    {\\\"Nombre\\\":\\\"Carlos Sheron \\\",\\\"deuda\\\":2600,\\\"Sexo\\\":\\\"M\\\",\\\"DNI\\\":10587880,\\\"Distrito\\\":\\\"San Juan de Miraflores\\\",\\\"Edad\\\":26},\\n    {\\\"Nombre\\\":\\\"Ana Martinez\\\",\\\"deuda\\\":850,\\\"Sexo\\\":\\\"F\\\",\\\"DNI\\\":18965045,\\\"Distrito\\\":\\\"Surco\\\",\\\"Edad\\\":30},\\n    {\\\"Nombre\\\":\\\"Teresa Sanchez\\\",\\\"deuda\\\":3000,\\\"Sexo\\\":\\\"F\\\",\\\"DNI\\\":70582630,\\\"Distrito\\\":\\\"El Agustino\\\",\\\"Edad\\\":41}\\n   ]\\n  },\\n  {\\\"AZTECA\\\":\\n   [\\n    {\\\"Nombre\\\":\\\"Vannesa Figueroa\\\",\\\"deuda\\\":2300,\\\"Sexo\\\":\\\"F\\\",\\\"DNI\\\":46259782,\\\"Distrito\\\":\\\"Santa Anita\\\",\\\"Edad\\\":30},\\n    {\\\"Nombre\\\":\\\"Claudia Peralta\\\",\\\"deuda\\\":1500,\\\"Sexo\\\":\\\"F\\\",\\\"DNI\\\":26413020,\\\"Distrito\\\":\\\"Chaclacayo\\\",\\\"Edad\\\":29},\\n    {\\\"Nombre\\\":\\\"Santiago Ramirez\\\",\\\"deuda\\\":1800,\\\"Sexo\\\":\\\"M\\\",\\\"DNI\\\":10587880,\\\"Distrito\\\":\\\"Chorrillos\\\",\\\"Edad\\\":64} \\n   ]\\n  },\\n  {\\\"PICHINCHA\\\":\\n   [\\n    {\\\"Nombre\\\":\\\"Waldir Llanos\\\",\\\"deuda\\\":4500,\\\"Sexo\\\":\\\"F\\\",\\\"DNI\\\":58472568,\\\"Distrito\\\":\\\"Ate\\\",\\\"Edad\\\":53},\\n    {\\\"Nombre\\\":\\\"Fernanda Casas\\\",\\\"deuda\\\":7300,\\\"Sexo\\\":\\\"F\\\",\\\"DNI\\\":66457892,\\\"Distrito\\\":\\\"Carabyllo\\\",\\\"Edad\\\":39},\\n    {\\\"Nombre\\\":\\\"Roberto Garcia\\\",\\\"deuda\\\":2100,\\\"Sexo\\\":\\\"M\\\",\\\"DNI\\\":21549687,\\\"Distrito\\\":\\\"Bre\\u00f1a\\\",\\\"Edad\\\":58} \\n   ]\\n  }\\n  \\n ]\\n}\\n\"\n"
          ]
        }
      ]
    },
    {
      "cell_type": "code",
      "source": [
        "import pandas as pd\n",
        "from pandas import json_normalize"
      ],
      "metadata": {
        "id": "RlVAc35kokkz"
      },
      "execution_count": 9,
      "outputs": []
    },
    {
      "cell_type": "code",
      "source": [
        "info = json.loads(data)\n",
        "\n",
        "df = json_normalize(info['BANCOS']) #Results contain the required data\n",
        "print(df)"
      ],
      "metadata": {
        "colab": {
          "base_uri": "https://localhost:8080/"
        },
        "id": "PKTUHskopOIS",
        "outputId": "8aba268c-618a-4208-e369-32b1cb2d1420"
      },
      "execution_count": 11,
      "outputs": [
        {
          "output_type": "stream",
          "name": "stdout",
          "text": [
            "                                                 BCP  \\\n",
            "0  [{'Nombre': 'Maria Fernandez', 'deuda': 500, '...   \n",
            "1                                                NaN   \n",
            "2                                                NaN   \n",
            "3                                                NaN   \n",
            "\n",
            "                                           FALABELLA  \\\n",
            "0                                                NaN   \n",
            "1  [{'Nombre': 'Carlos Sheron ', 'deuda': 2600, '...   \n",
            "2                                                NaN   \n",
            "3                                                NaN   \n",
            "\n",
            "                                              AZTECA  \\\n",
            "0                                                NaN   \n",
            "1                                                NaN   \n",
            "2  [{'Nombre': 'Vannesa Figueroa', 'deuda': 2300,...   \n",
            "3                                                NaN   \n",
            "\n",
            "                                           PICHINCHA  \n",
            "0                                                NaN  \n",
            "1                                                NaN  \n",
            "2                                                NaN  \n",
            "3  [{'Nombre': 'Waldir Llanos', 'deuda': 4500, 'S...  \n"
          ]
        }
      ]
    },
    {
      "cell_type": "code",
      "source": [
        "#df=pd.DataFrame({\"Nombre\":titulos, \"Precios\":precios,\"Área\":area, \"n_habitaciones\":habitaciones,\"URL\":urls})"
      ],
      "metadata": {
        "id": "ZPQ97HuOoq9i"
      },
      "execution_count": null,
      "outputs": []
    }
  ]
}