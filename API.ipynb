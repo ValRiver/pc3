{
  "nbformat": 4,
  "nbformat_minor": 0,
  "metadata": {
    "colab": {
      "name": "Copia de TrabajoFinal_LP2.ipynb",
      "provenance": [],
      "collapsed_sections": []
    },
    "kernelspec": {
      "name": "python3",
      "display_name": "Python 3"
    },
    "language_info": {
      "name": "python"
    }
  },
  "cells": [
    {
      "cell_type": "code",
      "execution_count": 1,
      "metadata": {
        "id": "f1EPO5lYWVs9"
      },
      "outputs": [],
      "source": [
        "#Librerias:\n",
        "import requests\n",
        "from bs4 import BeautifulSoup\n",
        "from lxml import etree\n",
        "import pandas as pd\n"
      ]
    },
    {
      "cell_type": "code",
      "source": [
        "#Se realiza la solicitud:\n",
        "r=requests.get(\"https://listado.mercadolibre.com.pe/casas-lima\") \n",
        "r "
      ],
      "metadata": {
        "colab": {
          "base_uri": "https://localhost:8080/"
        },
        "id": "0eSJNuagZ7HB",
        "outputId": "b41796cd-affa-4c1e-b1a6-e9f65807d960"
      },
      "execution_count": 3,
      "outputs": [
        {
          "output_type": "execute_result",
          "data": {
            "text/plain": [
              "<Response [200]>"
            ]
          },
          "metadata": {},
          "execution_count": 3
        }
      ]
    },
    {
      "cell_type": "code",
      "source": [
        "# Extracción de información en formato HTML con la libreria BeautifulSoup: \n",
        "soup=BeautifulSoup(r.content,\"html.parser\")  "
      ],
      "metadata": {
        "id": "4kXM9XAgaO5Q"
      },
      "execution_count": 4,
      "outputs": []
    },
    {
      "cell_type": "markdown",
      "source": [
        "<p style=\"color:orange\";>Extracción de títulos</p>"
      ],
      "metadata": {
        "id": "gHxeSiOuyxJs"
      }
    },
    {
      "cell_type": "code",
      "source": [
        "titulos=soup.find_all(\"h2\",attrs={\"class\":\"ui-search-item__title ui-search-item__group__element\"}) "
      ],
      "metadata": {
        "id": "ziraLOw-eIPb"
      },
      "execution_count": 5,
      "outputs": []
    },
    {
      "cell_type": "code",
      "source": [
        "#Limpieza:\n",
        "titulos=[i.text for i in titulos]\n"
      ],
      "metadata": {
        "id": "0B27ntHfewxC"
      },
      "execution_count": 6,
      "outputs": []
    },
    {
      "cell_type": "code",
      "source": [
        "titulos"
      ],
      "metadata": {
        "id": "3fkoeNEVkoY5",
        "colab": {
          "base_uri": "https://localhost:8080/"
        },
        "outputId": "e805d1a3-221e-4779-eb05-285fd2005d27"
      },
      "execution_count": 7,
      "outputs": [
        {
          "output_type": "execute_result",
          "data": {
            "text/plain": [
              "['Casa En Venta 120 M2  S. M. P',\n",
              " 'Venta De Casa De 140mÂ² Ubicado En Urb. Santa Elvira, Ate-lima.',\n",
              " 'Remato Acogedora Casa Cerca  C. Comercial Y EstaciÃ³n Metro',\n",
              " 'Casa De Playa En Bujama Baja Km 90 Panamericana Sur',\n",
              " 'Vendo 3 Deptos En Urb. Lucyana - Carabayllo. Un Dpto Desde:',\n",
              " 'Casa De 03 Pisos',\n",
              " 'Venta Casa En Cerro Azul CaÃ±ete',\n",
              " 'CabaÃ±as, Casas Pre Fabricadas, Drywall, Estructuras De Madera, Pintura',\n",
              " 'Casa En Los Olivos Us$ 205000',\n",
              " 'Casa De Playa Asia Del Mar. Canchas De Tenis, Piscina',\n",
              " 'Departamento Flat En 2do Piso',\n",
              " 'Amplia Casa 03 Dorm En Condominio Cerrado Con Piscina',\n",
              " 'Casa En Puente Piedra Carabayllo. Â¡terreno Costo Cero!',\n",
              " 'Casas Prefabricadas, Tablas Machihembradas De Pino, Pintura.',\n",
              " 'Vendo Casa En Villaclub 3ra. Etapa Carabayllo',\n",
              " 'Duplex C/piscina P/trebol J/prado',\n",
              " 'Vendo Casa De 150 Mt2 Por  Viaje',\n",
              " 'Casa En ZÃ¡rate Bien Ubicada',\n",
              " 'Vendo Casa Por VÃ\\xadaje De 150 Mt2 ',\n",
              " 'Venta De Casa Primer Piso',\n",
              " 'Venta De Casa 480 MÂ² De 4 Pisos En Los Olivos',\n",
              " 'Ocasion. Por Viaje Vendo Casa Zona Exclusiva De La Planicie',\n",
              " 'Vendo Casa Con Ambiente Amplio Para Recepciones Y Eventos',\n",
              " 'Ocasion Venta 60 MÂ² De Departamento En San Diego San Martin',\n",
              " 'Venta De Casa De 3 Pisos En UrbanizaciÃ³n San Roque En Santiago De Surco',\n",
              " 'Casa De Playa En Punta Hermosa',\n",
              " 'Casa En Villa Maria Del Triunfo 90 Mtrs',\n",
              " 'Hermosa Casa Familiar, Cerca De Parques, Instituciones Educativas, Â¡lista Para Mudarse!',\n",
              " 'Casa En Santa Catalina Remate / La Victoria / San Borja / Lince / San Isidro',\n",
              " 'Casa Terreno 90m2 Sjl',\n",
              " 'Vendo Casa En Villa El Salvador 100 MÂ², Cerca A Las Avenidas, Separadora Industrial Y La Av. Doscientas Millas',\n",
              " 'Vendo Hermosa Casa En El Cuadro/chaclacayo',\n",
              " 'Vendo Casa En Comas, Limite Con Los Olivos',\n",
              " 'Vendo Casa 90mt En Carabayllo',\n",
              " 'Vendo Casa En Carabayllo,  Dos Pisos La Arboleda 2',\n",
              " 'Vendo Casa En Ventanilla Urb Jorge Chavez',\n",
              " 'OcasiÃ³n Remato Casa En Huaycan Zona C',\n",
              " 'Venta De Casa En Carabayllo',\n",
              " '7 Cuartos En El Segundo Piso 4 BaÃ±os Y 1 De Servicioen Tot',\n",
              " 'En Venta Casa 2 Pisos Urb Taboadita Bellavista ',\n",
              " 'Venta De Casa En Punta Negra',\n",
              " 'Venta De Casa En La Entrada De San Juan De Liurigancho',\n",
              " 'Mega Casa 200 Mt2 Con 2 Locales Comerciales - En Venta - Puente Piedra',\n",
              " 'Se Vende Casa ',\n",
              " 'Casa De Dos Pisos Azotea Y Garage',\n",
              " 'Casa De 2 Pisos Acogedora, Cerca A Mercados, Centros Comerciales, Colegios A 5 Minutos De La Panamericana',\n",
              " 'Me Venden!!! Hermosa Casa En Excelente Estado Y UbicaciÃ³n, 3 Etapa Urb. Sta Patricia La Molina, Cruce Javier Prado Con Flora TristÃ¡n. Remodelada Totalmente 2010. Todos Los Papeles En Regla En Rrpp',\n",
              " 'Casa Dentro De Pasaje En San Miguel']"
            ]
          },
          "metadata": {},
          "execution_count": 7
        }
      ]
    },
    {
      "cell_type": "markdown",
      "source": [
        "<p style=\"color:orange\";>Extracción de los precios de las casas</p>"
      ],
      "metadata": {
        "id": "rlXQy8gl437R"
      }
    },
    {
      "cell_type": "code",
      "source": [
        "precios=soup.find_all(\"span\",attrs= {\"class\":\"price-tag-fraction\"})"
      ],
      "metadata": {
        "id": "TGjSFUSbjasZ"
      },
      "execution_count": 9,
      "outputs": []
    },
    {
      "cell_type": "code",
      "source": [
        "# Limpieza:\n",
        "precios=[i.text for i in precios]\n"
      ],
      "metadata": {
        "id": "F7jqAeRBkAYo"
      },
      "execution_count": 10,
      "outputs": []
    },
    {
      "cell_type": "code",
      "source": [
        "precios"
      ],
      "metadata": {
        "colab": {
          "base_uri": "https://localhost:8080/"
        },
        "id": "rKcyjfr8lGpt",
        "outputId": "752292d7-73a9-4fa0-9acf-20c18b1f484f"
      },
      "execution_count": 11,
      "outputs": [
        {
          "output_type": "execute_result",
          "data": {
            "text/plain": [
              "['135.000',\n",
              " '490.000',\n",
              " '89.000',\n",
              " '175.000',\n",
              " '52.500',\n",
              " '360.000',\n",
              " '98.000',\n",
              " '1.100',\n",
              " '205.000',\n",
              " '165.000',\n",
              " '550.000',\n",
              " '73.500',\n",
              " '95.000',\n",
              " '1.100',\n",
              " '230.000',\n",
              " '245.000',\n",
              " '40.000',\n",
              " '350.000',\n",
              " '40.000',\n",
              " '130.000',\n",
              " '1',\n",
              " '650.000',\n",
              " '1.450.000',\n",
              " '45.000',\n",
              " '300.000',\n",
              " '149.000',\n",
              " '120.000',\n",
              " '1.120.000',\n",
              " '380.000',\n",
              " '65.000',\n",
              " '95.000',\n",
              " '115.000',\n",
              " '90.000',\n",
              " '65.000',\n",
              " '110.000',\n",
              " '55.000',\n",
              " '75.900',\n",
              " '350.000',\n",
              " '11.207',\n",
              " '218.000',\n",
              " '170.000',\n",
              " '80.000',\n",
              " '270.000',\n",
              " '60.000',\n",
              " '230.000',\n",
              " '120.000',\n",
              " '355.000',\n",
              " '110.000']"
            ]
          },
          "metadata": {},
          "execution_count": 11
        }
      ]
    },
    {
      "cell_type": "markdown",
      "source": [
        "<p style=\"color:orange\";>Extracción del área de las casas</p>"
      ],
      "metadata": {
        "id": "A5TiMAMAJIi0"
      }
    },
    {
      "cell_type": "code",
      "source": [
        "#Usamos el xpath:\n",
        "dom=etree.HTML(str(soup))\n",
        "area=dom.xpath('//ul[@class=\"ui-search-card-attributes ui-search-item__group__element\"]//li[1]')"
      ],
      "metadata": {
        "id": "ThJoPGaVkAjO"
      },
      "execution_count": 12,
      "outputs": []
    },
    {
      "cell_type": "code",
      "source": [
        "area=[i.text for i in area]"
      ],
      "metadata": {
        "id": "e7P9Ed_7lo7a"
      },
      "execution_count": 13,
      "outputs": []
    },
    {
      "cell_type": "code",
      "source": [
        "area"
      ],
      "metadata": {
        "id": "AGAtBjrolWKm",
        "colab": {
          "base_uri": "https://localhost:8080/"
        },
        "outputId": "f6fc76b3-b60e-4281-9bdf-18f2765eac9a"
      },
      "execution_count": 14,
      "outputs": [
        {
          "output_type": "execute_result",
          "data": {
            "text/plain": [
              "['120 mÂ² cubiertos',\n",
              " '700 mÂ² cubiertos',\n",
              " '171 mÂ² cubiertos',\n",
              " '337 mÂ² cubiertos',\n",
              " '400 mÂ² cubiertos',\n",
              " '510 mÂ² cubiertos',\n",
              " '120 mÂ² cubiertos',\n",
              " '9 mÂ² cubiertos',\n",
              " '240 mÂ² cubiertos',\n",
              " '120 mÂ² cubiertos',\n",
              " '210 mÂ² cubiertos',\n",
              " '110 mÂ² cubiertos',\n",
              " '185 mÂ² cubiertos',\n",
              " '9 mÂ² cubiertos',\n",
              " '75 mÂ² cubiertos',\n",
              " '320 mÂ² cubiertos',\n",
              " '120 mÂ² cubiertos',\n",
              " '445 mÂ² cubiertos',\n",
              " '120 mÂ² cubiertos',\n",
              " '160 mÂ² cubiertos',\n",
              " '480 mÂ² cubiertos',\n",
              " '350 mÂ² cubiertos',\n",
              " '380 mÂ² cubiertos',\n",
              " '60 mÂ² cubiertos',\n",
              " '323 mÂ² cubiertos',\n",
              " '250 mÂ² cubiertos',\n",
              " '86 mÂ² cubiertos',\n",
              " '270 mÂ² cubiertos',\n",
              " '150 mÂ² cubiertos',\n",
              " '90 mÂ² cubiertos',\n",
              " '200 mÂ² cubiertos',\n",
              " '108 mÂ² cubiertos',\n",
              " '190 mÂ² cubiertos',\n",
              " '90 mÂ² cubiertos',\n",
              " '180 mÂ² cubiertos',\n",
              " '110 mÂ² cubiertos',\n",
              " '90 mÂ² cubiertos',\n",
              " '800 mÂ² cubiertos',\n",
              " '450 mÂ² cubiertos',\n",
              " '230 mÂ² cubiertos',\n",
              " '220 mÂ² cubiertos',\n",
              " '96 mÂ² cubiertos',\n",
              " '200 mÂ² cubiertos',\n",
              " '90 mÂ² cubiertos',\n",
              " '160 mÂ² cubiertos',\n",
              " '160 mÂ² cubiertos',\n",
              " '337 mÂ² cubiertos',\n",
              " '92 mÂ² cubiertos']"
            ]
          },
          "metadata": {},
          "execution_count": 14
        }
      ]
    },
    {
      "cell_type": "markdown",
      "source": [
        "<p style=\"color:orange\";>Extracción del número de habitaciones</p>"
      ],
      "metadata": {
        "id": "17ybUcZuOpIP"
      }
    },
    {
      "cell_type": "code",
      "source": [
        "#Usamos el xpath:\n",
        "habitaciones=dom.xpath('//ul[@class=\"ui-search-card-attributes ui-search-item__group__element\"]//li[2]')"
      ],
      "metadata": {
        "id": "-SxmeHrCl6yh"
      },
      "execution_count": 15,
      "outputs": []
    },
    {
      "cell_type": "code",
      "source": [
        "#Limpieza:\n",
        "habitaciones=[i.text for i in habitaciones]"
      ],
      "metadata": {
        "id": "63joieN5pFWq"
      },
      "execution_count": 16,
      "outputs": []
    },
    {
      "cell_type": "code",
      "source": [
        "len(habitaciones)"
      ],
      "metadata": {
        "colab": {
          "base_uri": "https://localhost:8080/"
        },
        "id": "31YdibIFliCZ",
        "outputId": "1fc79876-3d3c-41e2-ef0e-3b27799cbcfb"
      },
      "execution_count": null,
      "outputs": [
        {
          "output_type": "execute_result",
          "data": {
            "text/plain": [
              "46"
            ]
          },
          "metadata": {},
          "execution_count": 23
        }
      ]
    },
    {
      "cell_type": "code",
      "source": [
        "#Modificando manualmente la lista del número de habitaciones añadiendo \"-\" en el lugar 22 y 43:\n",
        "habitaciones.insert(22,\"-\")\n",
        "habitaciones.insert(43,\"-\")"
      ],
      "metadata": {
        "id": "hbwIberTdeyl"
      },
      "execution_count": 17,
      "outputs": []
    },
    {
      "cell_type": "code",
      "source": [
        "habitaciones"
      ],
      "metadata": {
        "colab": {
          "base_uri": "https://localhost:8080/"
        },
        "id": "GXe84L5WoXlA",
        "outputId": "0e003b50-76a5-4b30-e366-afcb679319ce"
      },
      "execution_count": 18,
      "outputs": [
        {
          "output_type": "execute_result",
          "data": {
            "text/plain": [
              "['3 dorms.',\n",
              " '20 dorms.',\n",
              " '2 dorms.',\n",
              " '4 dorms.',\n",
              " '12 dorms.',\n",
              " '5 dorms.',\n",
              " '3 dorms.',\n",
              " '1 dorm.',\n",
              " '8 dorms.',\n",
              " '4 dorms.',\n",
              " '3 dorms.',\n",
              " '3 dorms.',\n",
              " '4 dorms.',\n",
              " '1 dorm.',\n",
              " '3 dorms.',\n",
              " '4 dorms.',\n",
              " '3 dorms.',\n",
              " '10 dorms.',\n",
              " '3 dorms.',\n",
              " '4 dorms.',\n",
              " '10 dorms.',\n",
              " '4 dorms.',\n",
              " '-',\n",
              " '3 dorms.',\n",
              " '6 dorms.',\n",
              " '7 dorms.',\n",
              " '4 dorms.',\n",
              " '4 dorms.',\n",
              " '8 dorms.',\n",
              " '2 dorms.',\n",
              " '4 dorms.',\n",
              " '4 dorms.',\n",
              " '5 dorms.',\n",
              " '4 dorms.',\n",
              " '6 dorms.',\n",
              " '2 dorms.',\n",
              " '4 dorms.',\n",
              " '10 dorms.',\n",
              " '10 dorms.',\n",
              " '4 dorms.',\n",
              " '4 dorms.',\n",
              " '2 dorms.',\n",
              " '2 dorms.',\n",
              " '-',\n",
              " '6 dorms.',\n",
              " '4 dorms.',\n",
              " '6 dorms.',\n",
              " '3 dorms.']"
            ]
          },
          "metadata": {},
          "execution_count": 18
        }
      ]
    },
    {
      "cell_type": "markdown",
      "source": [
        "<p style=\"color:orange\";>Extracción de urls</p>"
      ],
      "metadata": {
        "id": "E80QE2oTzidd"
      }
    },
    {
      "cell_type": "code",
      "source": [
        "#Se extrae de manera similar a los títulos:\n",
        "urls=soup.find_all(\"a\",attrs={\"class\":\"ui-search-result__content ui-search-link\"})"
      ],
      "metadata": {
        "id": "sG2vctNcihCy"
      },
      "execution_count": 19,
      "outputs": []
    },
    {
      "cell_type": "code",
      "source": [
        "# Limpieza para los urls, se quiere obtener sólo los links contenidos en \"href\"\n",
        "urls=[i.get(\"href\") for i in urls]"
      ],
      "metadata": {
        "id": "Q1SDhMTSi97H"
      },
      "execution_count": 20,
      "outputs": []
    },
    {
      "cell_type": "code",
      "source": [
        "urls"
      ],
      "metadata": {
        "id": "VHpdSRNln0hr",
        "colab": {
          "base_uri": "https://localhost:8080/"
        },
        "outputId": "e9616649-7046-48f5-821c-c956ae81a6c9"
      },
      "execution_count": 21,
      "outputs": [
        {
          "output_type": "execute_result",
          "data": {
            "text/plain": [
              "['https://casa.mercadolibre.com.pe/MPE-608774509-casa-en-venta-120-m2-s-m-p-_JM#position=1&search_layout=grid&type=item&tracking_id=fb9ae177-31d7-47e0-9535-60ba1beead7b',\n",
              " 'https://casa.mercadolibre.com.pe/MPE-608624798-venta-de-casa-de-140m-ubicado-en-urb-santa-elvira-ate-lima-_JM#position=2&search_layout=grid&type=item&tracking_id=fb9ae177-31d7-47e0-9535-60ba1beead7b',\n",
              " 'https://casa.mercadolibre.com.pe/MPE-608066678-remato-acogedora-casa-cerca-c-comercial-y-estacion-metro-_JM#position=3&search_layout=grid&type=item&tracking_id=fb9ae177-31d7-47e0-9535-60ba1beead7b',\n",
              " 'https://casa.mercadolibre.com.pe/MPE-606818941-casa-de-playa-en-bujama-baja-km-90-panamericana-sur-_JM#position=4&search_layout=grid&type=item&tracking_id=fb9ae177-31d7-47e0-9535-60ba1beead7b',\n",
              " 'https://casa.mercadolibre.com.pe/MPE-606668533-vendo-3-deptos-en-urb-lucyana-carabayllo-un-dpto-desde-_JM#position=5&search_layout=grid&type=item&tracking_id=fb9ae177-31d7-47e0-9535-60ba1beead7b',\n",
              " 'https://casa.mercadolibre.com.pe/MPE-606642202-casa-de-03-pisos-_JM#position=6&search_layout=grid&type=item&tracking_id=fb9ae177-31d7-47e0-9535-60ba1beead7b',\n",
              " 'https://casa.mercadolibre.com.pe/MPE-607747502-venta-casa-en-cerro-azul-canete-_JM#position=7&search_layout=grid&type=item&tracking_id=fb9ae177-31d7-47e0-9535-60ba1beead7b',\n",
              " 'https://casa.mercadolibre.com.pe/MPE-608530952-cabanas-casas-pre-fabricadas-drywall-estructuras-de-madera-pintura-_JM#position=8&search_layout=grid&type=item&tracking_id=fb9ae177-31d7-47e0-9535-60ba1beead7b',\n",
              " 'https://casa.mercadolibre.com.pe/MPE-606863169-casa-en-los-olivos-us-205000-_JM#position=9&search_layout=grid&type=item&tracking_id=fb9ae177-31d7-47e0-9535-60ba1beead7b',\n",
              " 'https://casa.mercadolibre.com.pe/MPE-608808591-casa-de-playa-asia-del-mar-canchas-de-tenis-piscina-_JM#position=10&search_layout=grid&type=item&tracking_id=fb9ae177-31d7-47e0-9535-60ba1beead7b',\n",
              " 'https://casa.mercadolibre.com.pe/MPE-608305767-departamento-flat-en-2do-piso-_JM#position=11&search_layout=grid&type=item&tracking_id=fb9ae177-31d7-47e0-9535-60ba1beead7b',\n",
              " 'https://casa.mercadolibre.com.pe/MPE-608531476-amplia-casa-03-dorm-en-condominio-cerrado-con-piscina-_JM#position=12&search_layout=grid&type=item&tracking_id=fb9ae177-31d7-47e0-9535-60ba1beead7b',\n",
              " 'https://casa.mercadolibre.com.pe/MPE-607038787-casa-en-puente-piedra-carabayllo-terreno-costo-cero-_JM#position=13&search_layout=grid&type=item&tracking_id=fb9ae177-31d7-47e0-9535-60ba1beead7b',\n",
              " 'https://casa.mercadolibre.com.pe/MPE-606468006-casas-prefabricadas-tablas-machihembradas-de-pino-pintura-_JM#position=14&search_layout=grid&type=item&tracking_id=fb9ae177-31d7-47e0-9535-60ba1beead7b',\n",
              " 'https://casa.mercadolibre.com.pe/MPE-607259195-vendo-casa-en-villaclub-3ra-etapa-carabayllo-_JM#position=15&search_layout=grid&type=item&tracking_id=fb9ae177-31d7-47e0-9535-60ba1beead7b',\n",
              " 'https://casa.mercadolibre.com.pe/MPE-608065045-duplex-cpiscina-ptrebol-jprado-_JM#position=16&search_layout=grid&type=item&tracking_id=fb9ae177-31d7-47e0-9535-60ba1beead7b',\n",
              " 'https://casa.mercadolibre.com.pe/MPE-607769355-vendo-casa-de-150-mt2-por-viaje-_JM#position=17&search_layout=grid&type=item&tracking_id=fb9ae177-31d7-47e0-9535-60ba1beead7b',\n",
              " 'https://casa.mercadolibre.com.pe/MPE-606901704-casa-en-zarate-bien-ubicada-_JM#position=18&search_layout=grid&type=item&tracking_id=fb9ae177-31d7-47e0-9535-60ba1beead7b',\n",
              " 'https://casa.mercadolibre.com.pe/MPE-607890644-vendo-casa-por-viaje-de-150-mt2-_JM#position=19&search_layout=grid&type=item&tracking_id=fb9ae177-31d7-47e0-9535-60ba1beead7b',\n",
              " 'https://casa.mercadolibre.com.pe/MPE-608397847-venta-de-casa-primer-piso-_JM#position=20&search_layout=grid&type=item&tracking_id=fb9ae177-31d7-47e0-9535-60ba1beead7b',\n",
              " 'https://casa.mercadolibre.com.pe/MPE-606576610-venta-de-casa-480-m-de-4-pisos-en-los-olivos-_JM#position=21&search_layout=grid&type=item&tracking_id=fb9ae177-31d7-47e0-9535-60ba1beead7b',\n",
              " 'https://casa.mercadolibre.com.pe/MPE-608611849-ocasion-por-viaje-vendo-casa-zona-exclusiva-de-la-planicie-_JM#position=22&search_layout=grid&type=item&tracking_id=fb9ae177-31d7-47e0-9535-60ba1beead7b',\n",
              " 'https://casa.mercadolibre.com.pe/MPE-607616574-vendo-casa-con-ambiente-amplio-para-recepciones-y-eventos-_JM#position=23&search_layout=grid&type=item&tracking_id=fb9ae177-31d7-47e0-9535-60ba1beead7b',\n",
              " 'https://casa.mercadolibre.com.pe/MPE-608325952-ocasion-venta-60-m-de-departamento-en-san-diego-san-martin-_JM#position=24&search_layout=grid&type=item&tracking_id=fb9ae177-31d7-47e0-9535-60ba1beead7b',\n",
              " 'https://casa.mercadolibre.com.pe/MPE-608345174-venta-de-casa-de-3-pisos-en-urbanizacion-san-roque-en-santiago-de-surco-_JM#position=25&search_layout=grid&type=item&tracking_id=fb9ae177-31d7-47e0-9535-60ba1beead7b',\n",
              " 'https://casa.mercadolibre.com.pe/MPE-608021110-casa-de-playa-en-punta-hermosa-_JM#position=26&search_layout=grid&type=item&tracking_id=fb9ae177-31d7-47e0-9535-60ba1beead7b',\n",
              " 'https://casa.mercadolibre.com.pe/MPE-607227101-casa-en-villa-maria-del-triunfo-90-mtrs-_JM#position=27&search_layout=grid&type=item&tracking_id=fb9ae177-31d7-47e0-9535-60ba1beead7b',\n",
              " 'https://casa.mercadolibre.com.pe/MPE-608364218-hermosa-casa-familiar-cerca-de-parques-instituciones-educativas-lista-para-mudarse-_JM#position=28&search_layout=grid&type=item&tracking_id=fb9ae177-31d7-47e0-9535-60ba1beead7b',\n",
              " 'https://casa.mercadolibre.com.pe/MPE-607701234-casa-en-santa-catalina-remate-la-victoria-san-borja-lince-san-isidro-_JM#position=29&search_layout=grid&type=item&tracking_id=fb9ae177-31d7-47e0-9535-60ba1beead7b',\n",
              " 'https://casa.mercadolibre.com.pe/MPE-608377105-casa-terreno-90m2-sjl-_JM#position=30&search_layout=grid&type=item&tracking_id=fb9ae177-31d7-47e0-9535-60ba1beead7b',\n",
              " 'https://casa.mercadolibre.com.pe/MPE-606981163-vendo-casa-en-villa-el-salvador-100-m-cerca-a-las-avenidas-separadora-industrial-y-la-av-doscientas-millas-_JM#position=31&search_layout=grid&type=item&tracking_id=fb9ae177-31d7-47e0-9535-60ba1beead7b',\n",
              " 'https://casa.mercadolibre.com.pe/MPE-608188546-vendo-hermosa-casa-en-el-cuadrochaclacayo-_JM#position=32&search_layout=grid&type=item&tracking_id=fb9ae177-31d7-47e0-9535-60ba1beead7b',\n",
              " 'https://casa.mercadolibre.com.pe/MPE-608046768-vendo-casa-en-comas-limite-con-los-olivos-_JM#position=33&search_layout=grid&type=item&tracking_id=fb9ae177-31d7-47e0-9535-60ba1beead7b',\n",
              " 'https://casa.mercadolibre.com.pe/MPE-607389336-vendo-casa-90mt-en-carabayllo-_JM#position=34&search_layout=grid&type=item&tracking_id=fb9ae177-31d7-47e0-9535-60ba1beead7b',\n",
              " 'https://casa.mercadolibre.com.pe/MPE-608117729-vendo-casa-en-carabayllo-dos-pisos-la-arboleda-2-_JM#position=35&search_layout=grid&type=item&tracking_id=fb9ae177-31d7-47e0-9535-60ba1beead7b',\n",
              " 'https://casa.mercadolibre.com.pe/MPE-607415314-vendo-casa-en-ventanilla-urb-jorge-chavez-_JM#position=36&search_layout=grid&type=item&tracking_id=fb9ae177-31d7-47e0-9535-60ba1beead7b',\n",
              " 'https://casa.mercadolibre.com.pe/MPE-608663185-ocasion-remato-casa-en-huaycan-zona-c-_JM#position=37&search_layout=grid&type=item&tracking_id=fb9ae177-31d7-47e0-9535-60ba1beead7b',\n",
              " 'https://casa.mercadolibre.com.pe/MPE-608663280-venta-de-casa-en-carabayllo-_JM#position=38&search_layout=grid&type=item&tracking_id=fb9ae177-31d7-47e0-9535-60ba1beead7b',\n",
              " 'https://casa.mercadolibre.com.pe/MPE-608586737-7-cuartos-en-el-segundo-piso-4-banos-y-1-de-servicioen-tot-_JM#position=39&search_layout=grid&type=item&tracking_id=fb9ae177-31d7-47e0-9535-60ba1beead7b',\n",
              " 'https://casa.mercadolibre.com.pe/MPE-608656846-en-venta-casa-2-pisos-urb-taboadita-bellavista-_JM#position=40&search_layout=grid&type=item&tracking_id=fb9ae177-31d7-47e0-9535-60ba1beead7b',\n",
              " 'https://casa.mercadolibre.com.pe/MPE-608879542-venta-de-casa-en-punta-negra-_JM#position=41&search_layout=grid&type=item&tracking_id=fb9ae177-31d7-47e0-9535-60ba1beead7b',\n",
              " 'https://casa.mercadolibre.com.pe/MPE-608759154-venta-de-casa-en-la-entrada-de-san-juan-de-liurigancho-_JM#position=42&search_layout=grid&type=item&tracking_id=fb9ae177-31d7-47e0-9535-60ba1beead7b',\n",
              " 'https://casa.mercadolibre.com.pe/MPE-608739858-mega-casa-200-mt2-con-2-locales-comerciales-en-venta-puente-piedra-_JM#position=43&search_layout=grid&type=item&tracking_id=fb9ae177-31d7-47e0-9535-60ba1beead7b',\n",
              " 'https://casa.mercadolibre.com.pe/MPE-608825703-se-vende-casa-_JM#position=44&search_layout=grid&type=item&tracking_id=fb9ae177-31d7-47e0-9535-60ba1beead7b',\n",
              " 'https://casa.mercadolibre.com.pe/MPE-608618462-casa-de-dos-pisos-azotea-y-garage-_JM#position=45&search_layout=grid&type=item&tracking_id=fb9ae177-31d7-47e0-9535-60ba1beead7b',\n",
              " 'https://casa.mercadolibre.com.pe/MPE-608825228-casa-de-2-pisos-acogedora-cerca-a-mercados-centros-comerciales-colegios-a-5-minutos-de-la-panamericana-_JM#position=46&search_layout=grid&type=item&tracking_id=fb9ae177-31d7-47e0-9535-60ba1beead7b',\n",
              " 'https://casa.mercadolibre.com.pe/MPE-608637109-me-venden-hermosa-casa-en-excelente-estado-y-ubicacion-3-etapa-urb-sta-patricia-la-molina-cruce-javier-prado-con-flora-tristan-remodelada-totalmente-2010-todos-los-papeles-en-regla-en-rrpp-_JM#position=47&search_layout=grid&type=item&tracking_id=fb9ae177-31d7-47e0-9535-60ba1beead7b',\n",
              " 'https://casa.mercadolibre.com.pe/MPE-608253589-casa-dentro-de-pasaje-en-san-miguel-_JM#position=48&search_layout=grid&type=item&tracking_id=fb9ae177-31d7-47e0-9535-60ba1beead7b']"
            ]
          },
          "metadata": {},
          "execution_count": 21
        }
      ]
    },
    {
      "cell_type": "markdown",
      "source": [
        "**Creando un data frame**"
      ],
      "metadata": {
        "id": "kaA2Hs6bROyB"
      }
    },
    {
      "cell_type": "code",
      "source": [
        "df=pd.DataFrame({\"Títulos\":titulos, \"Precios\":precios,\"Área\":area, \"n_habitaciones\":habitaciones,\"URL\":urls})"
      ],
      "metadata": {
        "id": "mqCB5BlBO4Td"
      },
      "execution_count": 22,
      "outputs": []
    },
    {
      "cell_type": "code",
      "source": [
        "df"
      ],
      "metadata": {
        "colab": {
          "base_uri": "https://localhost:8080/",
          "height": 1000
        },
        "id": "aLUTRBTNpYoo",
        "outputId": "909ccc7c-e6fd-4a66-c607-198237e6c640"
      },
      "execution_count": 23,
      "outputs": [
        {
          "output_type": "execute_result",
          "data": {
            "text/html": [
              "\n",
              "  <div id=\"df-6e9a4f11-49e1-4fff-b725-fa5b2da2b423\">\n",
              "    <div class=\"colab-df-container\">\n",
              "      <div>\n",
              "<style scoped>\n",
              "    .dataframe tbody tr th:only-of-type {\n",
              "        vertical-align: middle;\n",
              "    }\n",
              "\n",
              "    .dataframe tbody tr th {\n",
              "        vertical-align: top;\n",
              "    }\n",
              "\n",
              "    .dataframe thead th {\n",
              "        text-align: right;\n",
              "    }\n",
              "</style>\n",
              "<table border=\"1\" class=\"dataframe\">\n",
              "  <thead>\n",
              "    <tr style=\"text-align: right;\">\n",
              "      <th></th>\n",
              "      <th>Títulos</th>\n",
              "      <th>Precios</th>\n",
              "      <th>Área</th>\n",
              "      <th>n_habitaciones</th>\n",
              "      <th>URL</th>\n",
              "    </tr>\n",
              "  </thead>\n",
              "  <tbody>\n",
              "    <tr>\n",
              "      <th>0</th>\n",
              "      <td>Casa En Venta 120 M2  S. M. P</td>\n",
              "      <td>135.000</td>\n",
              "      <td>120 mÂ² cubiertos</td>\n",
              "      <td>3 dorms.</td>\n",
              "      <td>https://casa.mercadolibre.com.pe/MPE-608774509...</td>\n",
              "    </tr>\n",
              "    <tr>\n",
              "      <th>1</th>\n",
              "      <td>Venta De Casa De 140mÂ² Ubicado En Urb. Santa ...</td>\n",
              "      <td>490.000</td>\n",
              "      <td>700 mÂ² cubiertos</td>\n",
              "      <td>20 dorms.</td>\n",
              "      <td>https://casa.mercadolibre.com.pe/MPE-608624798...</td>\n",
              "    </tr>\n",
              "    <tr>\n",
              "      <th>2</th>\n",
              "      <td>Remato Acogedora Casa Cerca  C. Comercial Y Es...</td>\n",
              "      <td>89.000</td>\n",
              "      <td>171 mÂ² cubiertos</td>\n",
              "      <td>2 dorms.</td>\n",
              "      <td>https://casa.mercadolibre.com.pe/MPE-608066678...</td>\n",
              "    </tr>\n",
              "    <tr>\n",
              "      <th>3</th>\n",
              "      <td>Casa De Playa En Bujama Baja Km 90 Panamerican...</td>\n",
              "      <td>175.000</td>\n",
              "      <td>337 mÂ² cubiertos</td>\n",
              "      <td>4 dorms.</td>\n",
              "      <td>https://casa.mercadolibre.com.pe/MPE-606818941...</td>\n",
              "    </tr>\n",
              "    <tr>\n",
              "      <th>4</th>\n",
              "      <td>Vendo 3 Deptos En Urb. Lucyana - Carabayllo. U...</td>\n",
              "      <td>52.500</td>\n",
              "      <td>400 mÂ² cubiertos</td>\n",
              "      <td>12 dorms.</td>\n",
              "      <td>https://casa.mercadolibre.com.pe/MPE-606668533...</td>\n",
              "    </tr>\n",
              "    <tr>\n",
              "      <th>5</th>\n",
              "      <td>Casa De 03 Pisos</td>\n",
              "      <td>360.000</td>\n",
              "      <td>510 mÂ² cubiertos</td>\n",
              "      <td>5 dorms.</td>\n",
              "      <td>https://casa.mercadolibre.com.pe/MPE-606642202...</td>\n",
              "    </tr>\n",
              "    <tr>\n",
              "      <th>6</th>\n",
              "      <td>Venta Casa En Cerro Azul CaÃ±ete</td>\n",
              "      <td>98.000</td>\n",
              "      <td>120 mÂ² cubiertos</td>\n",
              "      <td>3 dorms.</td>\n",
              "      <td>https://casa.mercadolibre.com.pe/MPE-607747502...</td>\n",
              "    </tr>\n",
              "    <tr>\n",
              "      <th>7</th>\n",
              "      <td>CabaÃ±as, Casas Pre Fabricadas, Drywall, Estru...</td>\n",
              "      <td>1.100</td>\n",
              "      <td>9 mÂ² cubiertos</td>\n",
              "      <td>1 dorm.</td>\n",
              "      <td>https://casa.mercadolibre.com.pe/MPE-608530952...</td>\n",
              "    </tr>\n",
              "    <tr>\n",
              "      <th>8</th>\n",
              "      <td>Casa En Los Olivos Us$ 205000</td>\n",
              "      <td>205.000</td>\n",
              "      <td>240 mÂ² cubiertos</td>\n",
              "      <td>8 dorms.</td>\n",
              "      <td>https://casa.mercadolibre.com.pe/MPE-606863169...</td>\n",
              "    </tr>\n",
              "    <tr>\n",
              "      <th>9</th>\n",
              "      <td>Casa De Playa Asia Del Mar. Canchas De Tenis, ...</td>\n",
              "      <td>165.000</td>\n",
              "      <td>120 mÂ² cubiertos</td>\n",
              "      <td>4 dorms.</td>\n",
              "      <td>https://casa.mercadolibre.com.pe/MPE-608808591...</td>\n",
              "    </tr>\n",
              "    <tr>\n",
              "      <th>10</th>\n",
              "      <td>Departamento Flat En 2do Piso</td>\n",
              "      <td>550.000</td>\n",
              "      <td>210 mÂ² cubiertos</td>\n",
              "      <td>3 dorms.</td>\n",
              "      <td>https://casa.mercadolibre.com.pe/MPE-608305767...</td>\n",
              "    </tr>\n",
              "    <tr>\n",
              "      <th>11</th>\n",
              "      <td>Amplia Casa 03 Dorm En Condominio Cerrado Con ...</td>\n",
              "      <td>73.500</td>\n",
              "      <td>110 mÂ² cubiertos</td>\n",
              "      <td>3 dorms.</td>\n",
              "      <td>https://casa.mercadolibre.com.pe/MPE-608531476...</td>\n",
              "    </tr>\n",
              "    <tr>\n",
              "      <th>12</th>\n",
              "      <td>Casa En Puente Piedra Carabayllo. Â¡terreno Co...</td>\n",
              "      <td>95.000</td>\n",
              "      <td>185 mÂ² cubiertos</td>\n",
              "      <td>4 dorms.</td>\n",
              "      <td>https://casa.mercadolibre.com.pe/MPE-607038787...</td>\n",
              "    </tr>\n",
              "    <tr>\n",
              "      <th>13</th>\n",
              "      <td>Casas Prefabricadas, Tablas Machihembradas De ...</td>\n",
              "      <td>1.100</td>\n",
              "      <td>9 mÂ² cubiertos</td>\n",
              "      <td>1 dorm.</td>\n",
              "      <td>https://casa.mercadolibre.com.pe/MPE-606468006...</td>\n",
              "    </tr>\n",
              "    <tr>\n",
              "      <th>14</th>\n",
              "      <td>Vendo Casa En Villaclub 3ra. Etapa Carabayllo</td>\n",
              "      <td>230.000</td>\n",
              "      <td>75 mÂ² cubiertos</td>\n",
              "      <td>3 dorms.</td>\n",
              "      <td>https://casa.mercadolibre.com.pe/MPE-607259195...</td>\n",
              "    </tr>\n",
              "    <tr>\n",
              "      <th>15</th>\n",
              "      <td>Duplex C/piscina P/trebol J/prado</td>\n",
              "      <td>245.000</td>\n",
              "      <td>320 mÂ² cubiertos</td>\n",
              "      <td>4 dorms.</td>\n",
              "      <td>https://casa.mercadolibre.com.pe/MPE-608065045...</td>\n",
              "    </tr>\n",
              "    <tr>\n",
              "      <th>16</th>\n",
              "      <td>Vendo Casa De 150 Mt2 Por  Viaje</td>\n",
              "      <td>40.000</td>\n",
              "      <td>120 mÂ² cubiertos</td>\n",
              "      <td>3 dorms.</td>\n",
              "      <td>https://casa.mercadolibre.com.pe/MPE-607769355...</td>\n",
              "    </tr>\n",
              "    <tr>\n",
              "      <th>17</th>\n",
              "      <td>Casa En ZÃ¡rate Bien Ubicada</td>\n",
              "      <td>350.000</td>\n",
              "      <td>445 mÂ² cubiertos</td>\n",
              "      <td>10 dorms.</td>\n",
              "      <td>https://casa.mercadolibre.com.pe/MPE-606901704...</td>\n",
              "    </tr>\n",
              "    <tr>\n",
              "      <th>18</th>\n",
              "      <td>Vendo Casa Por VÃ­aje De 150 Mt2</td>\n",
              "      <td>40.000</td>\n",
              "      <td>120 mÂ² cubiertos</td>\n",
              "      <td>3 dorms.</td>\n",
              "      <td>https://casa.mercadolibre.com.pe/MPE-607890644...</td>\n",
              "    </tr>\n",
              "    <tr>\n",
              "      <th>19</th>\n",
              "      <td>Venta De Casa Primer Piso</td>\n",
              "      <td>130.000</td>\n",
              "      <td>160 mÂ² cubiertos</td>\n",
              "      <td>4 dorms.</td>\n",
              "      <td>https://casa.mercadolibre.com.pe/MPE-608397847...</td>\n",
              "    </tr>\n",
              "    <tr>\n",
              "      <th>20</th>\n",
              "      <td>Venta De Casa 480 MÂ² De 4 Pisos En Los Olivos</td>\n",
              "      <td>1</td>\n",
              "      <td>480 mÂ² cubiertos</td>\n",
              "      <td>10 dorms.</td>\n",
              "      <td>https://casa.mercadolibre.com.pe/MPE-606576610...</td>\n",
              "    </tr>\n",
              "    <tr>\n",
              "      <th>21</th>\n",
              "      <td>Ocasion. Por Viaje Vendo Casa Zona Exclusiva D...</td>\n",
              "      <td>650.000</td>\n",
              "      <td>350 mÂ² cubiertos</td>\n",
              "      <td>4 dorms.</td>\n",
              "      <td>https://casa.mercadolibre.com.pe/MPE-608611849...</td>\n",
              "    </tr>\n",
              "    <tr>\n",
              "      <th>22</th>\n",
              "      <td>Vendo Casa Con Ambiente Amplio Para Recepcione...</td>\n",
              "      <td>1.450.000</td>\n",
              "      <td>380 mÂ² cubiertos</td>\n",
              "      <td>-</td>\n",
              "      <td>https://casa.mercadolibre.com.pe/MPE-607616574...</td>\n",
              "    </tr>\n",
              "    <tr>\n",
              "      <th>23</th>\n",
              "      <td>Ocasion Venta 60 MÂ² De Departamento En San Di...</td>\n",
              "      <td>45.000</td>\n",
              "      <td>60 mÂ² cubiertos</td>\n",
              "      <td>3 dorms.</td>\n",
              "      <td>https://casa.mercadolibre.com.pe/MPE-608325952...</td>\n",
              "    </tr>\n",
              "    <tr>\n",
              "      <th>24</th>\n",
              "      <td>Venta De Casa De 3 Pisos En UrbanizaciÃ³n San ...</td>\n",
              "      <td>300.000</td>\n",
              "      <td>323 mÂ² cubiertos</td>\n",
              "      <td>6 dorms.</td>\n",
              "      <td>https://casa.mercadolibre.com.pe/MPE-608345174...</td>\n",
              "    </tr>\n",
              "    <tr>\n",
              "      <th>25</th>\n",
              "      <td>Casa De Playa En Punta Hermosa</td>\n",
              "      <td>149.000</td>\n",
              "      <td>250 mÂ² cubiertos</td>\n",
              "      <td>7 dorms.</td>\n",
              "      <td>https://casa.mercadolibre.com.pe/MPE-608021110...</td>\n",
              "    </tr>\n",
              "    <tr>\n",
              "      <th>26</th>\n",
              "      <td>Casa En Villa Maria Del Triunfo 90 Mtrs</td>\n",
              "      <td>120.000</td>\n",
              "      <td>86 mÂ² cubiertos</td>\n",
              "      <td>4 dorms.</td>\n",
              "      <td>https://casa.mercadolibre.com.pe/MPE-607227101...</td>\n",
              "    </tr>\n",
              "    <tr>\n",
              "      <th>27</th>\n",
              "      <td>Hermosa Casa Familiar, Cerca De Parques, Insti...</td>\n",
              "      <td>1.120.000</td>\n",
              "      <td>270 mÂ² cubiertos</td>\n",
              "      <td>4 dorms.</td>\n",
              "      <td>https://casa.mercadolibre.com.pe/MPE-608364218...</td>\n",
              "    </tr>\n",
              "    <tr>\n",
              "      <th>28</th>\n",
              "      <td>Casa En Santa Catalina Remate / La Victoria / ...</td>\n",
              "      <td>380.000</td>\n",
              "      <td>150 mÂ² cubiertos</td>\n",
              "      <td>8 dorms.</td>\n",
              "      <td>https://casa.mercadolibre.com.pe/MPE-607701234...</td>\n",
              "    </tr>\n",
              "    <tr>\n",
              "      <th>29</th>\n",
              "      <td>Casa Terreno 90m2 Sjl</td>\n",
              "      <td>65.000</td>\n",
              "      <td>90 mÂ² cubiertos</td>\n",
              "      <td>2 dorms.</td>\n",
              "      <td>https://casa.mercadolibre.com.pe/MPE-608377105...</td>\n",
              "    </tr>\n",
              "    <tr>\n",
              "      <th>30</th>\n",
              "      <td>Vendo Casa En Villa El Salvador 100 MÂ², Cerca...</td>\n",
              "      <td>95.000</td>\n",
              "      <td>200 mÂ² cubiertos</td>\n",
              "      <td>4 dorms.</td>\n",
              "      <td>https://casa.mercadolibre.com.pe/MPE-606981163...</td>\n",
              "    </tr>\n",
              "    <tr>\n",
              "      <th>31</th>\n",
              "      <td>Vendo Hermosa Casa En El Cuadro/chaclacayo</td>\n",
              "      <td>115.000</td>\n",
              "      <td>108 mÂ² cubiertos</td>\n",
              "      <td>4 dorms.</td>\n",
              "      <td>https://casa.mercadolibre.com.pe/MPE-608188546...</td>\n",
              "    </tr>\n",
              "    <tr>\n",
              "      <th>32</th>\n",
              "      <td>Vendo Casa En Comas, Limite Con Los Olivos</td>\n",
              "      <td>90.000</td>\n",
              "      <td>190 mÂ² cubiertos</td>\n",
              "      <td>5 dorms.</td>\n",
              "      <td>https://casa.mercadolibre.com.pe/MPE-608046768...</td>\n",
              "    </tr>\n",
              "    <tr>\n",
              "      <th>33</th>\n",
              "      <td>Vendo Casa 90mt En Carabayllo</td>\n",
              "      <td>65.000</td>\n",
              "      <td>90 mÂ² cubiertos</td>\n",
              "      <td>4 dorms.</td>\n",
              "      <td>https://casa.mercadolibre.com.pe/MPE-607389336...</td>\n",
              "    </tr>\n",
              "    <tr>\n",
              "      <th>34</th>\n",
              "      <td>Vendo Casa En Carabayllo,  Dos Pisos La Arbole...</td>\n",
              "      <td>110.000</td>\n",
              "      <td>180 mÂ² cubiertos</td>\n",
              "      <td>6 dorms.</td>\n",
              "      <td>https://casa.mercadolibre.com.pe/MPE-608117729...</td>\n",
              "    </tr>\n",
              "    <tr>\n",
              "      <th>35</th>\n",
              "      <td>Vendo Casa En Ventanilla Urb Jorge Chavez</td>\n",
              "      <td>55.000</td>\n",
              "      <td>110 mÂ² cubiertos</td>\n",
              "      <td>2 dorms.</td>\n",
              "      <td>https://casa.mercadolibre.com.pe/MPE-607415314...</td>\n",
              "    </tr>\n",
              "    <tr>\n",
              "      <th>36</th>\n",
              "      <td>OcasiÃ³n Remato Casa En Huaycan Zona C</td>\n",
              "      <td>75.900</td>\n",
              "      <td>90 mÂ² cubiertos</td>\n",
              "      <td>4 dorms.</td>\n",
              "      <td>https://casa.mercadolibre.com.pe/MPE-608663185...</td>\n",
              "    </tr>\n",
              "    <tr>\n",
              "      <th>37</th>\n",
              "      <td>Venta De Casa En Carabayllo</td>\n",
              "      <td>350.000</td>\n",
              "      <td>800 mÂ² cubiertos</td>\n",
              "      <td>10 dorms.</td>\n",
              "      <td>https://casa.mercadolibre.com.pe/MPE-608663280...</td>\n",
              "    </tr>\n",
              "    <tr>\n",
              "      <th>38</th>\n",
              "      <td>7 Cuartos En El Segundo Piso 4 BaÃ±os Y 1 De S...</td>\n",
              "      <td>11.207</td>\n",
              "      <td>450 mÂ² cubiertos</td>\n",
              "      <td>10 dorms.</td>\n",
              "      <td>https://casa.mercadolibre.com.pe/MPE-608586737...</td>\n",
              "    </tr>\n",
              "    <tr>\n",
              "      <th>39</th>\n",
              "      <td>En Venta Casa 2 Pisos Urb Taboadita Bellavista</td>\n",
              "      <td>218.000</td>\n",
              "      <td>230 mÂ² cubiertos</td>\n",
              "      <td>4 dorms.</td>\n",
              "      <td>https://casa.mercadolibre.com.pe/MPE-608656846...</td>\n",
              "    </tr>\n",
              "    <tr>\n",
              "      <th>40</th>\n",
              "      <td>Venta De Casa En Punta Negra</td>\n",
              "      <td>170.000</td>\n",
              "      <td>220 mÂ² cubiertos</td>\n",
              "      <td>4 dorms.</td>\n",
              "      <td>https://casa.mercadolibre.com.pe/MPE-608879542...</td>\n",
              "    </tr>\n",
              "    <tr>\n",
              "      <th>41</th>\n",
              "      <td>Venta De Casa En La Entrada De San Juan De Liu...</td>\n",
              "      <td>80.000</td>\n",
              "      <td>96 mÂ² cubiertos</td>\n",
              "      <td>2 dorms.</td>\n",
              "      <td>https://casa.mercadolibre.com.pe/MPE-608759154...</td>\n",
              "    </tr>\n",
              "    <tr>\n",
              "      <th>42</th>\n",
              "      <td>Mega Casa 200 Mt2 Con 2 Locales Comerciales - ...</td>\n",
              "      <td>270.000</td>\n",
              "      <td>200 mÂ² cubiertos</td>\n",
              "      <td>2 dorms.</td>\n",
              "      <td>https://casa.mercadolibre.com.pe/MPE-608739858...</td>\n",
              "    </tr>\n",
              "    <tr>\n",
              "      <th>43</th>\n",
              "      <td>Se Vende Casa</td>\n",
              "      <td>60.000</td>\n",
              "      <td>90 mÂ² cubiertos</td>\n",
              "      <td>-</td>\n",
              "      <td>https://casa.mercadolibre.com.pe/MPE-608825703...</td>\n",
              "    </tr>\n",
              "    <tr>\n",
              "      <th>44</th>\n",
              "      <td>Casa De Dos Pisos Azotea Y Garage</td>\n",
              "      <td>230.000</td>\n",
              "      <td>160 mÂ² cubiertos</td>\n",
              "      <td>6 dorms.</td>\n",
              "      <td>https://casa.mercadolibre.com.pe/MPE-608618462...</td>\n",
              "    </tr>\n",
              "    <tr>\n",
              "      <th>45</th>\n",
              "      <td>Casa De 2 Pisos Acogedora, Cerca A Mercados, C...</td>\n",
              "      <td>120.000</td>\n",
              "      <td>160 mÂ² cubiertos</td>\n",
              "      <td>4 dorms.</td>\n",
              "      <td>https://casa.mercadolibre.com.pe/MPE-608825228...</td>\n",
              "    </tr>\n",
              "    <tr>\n",
              "      <th>46</th>\n",
              "      <td>Me Venden!!! Hermosa Casa En Excelente Estado ...</td>\n",
              "      <td>355.000</td>\n",
              "      <td>337 mÂ² cubiertos</td>\n",
              "      <td>6 dorms.</td>\n",
              "      <td>https://casa.mercadolibre.com.pe/MPE-608637109...</td>\n",
              "    </tr>\n",
              "    <tr>\n",
              "      <th>47</th>\n",
              "      <td>Casa Dentro De Pasaje En San Miguel</td>\n",
              "      <td>110.000</td>\n",
              "      <td>92 mÂ² cubiertos</td>\n",
              "      <td>3 dorms.</td>\n",
              "      <td>https://casa.mercadolibre.com.pe/MPE-608253589...</td>\n",
              "    </tr>\n",
              "  </tbody>\n",
              "</table>\n",
              "</div>\n",
              "      <button class=\"colab-df-convert\" onclick=\"convertToInteractive('df-6e9a4f11-49e1-4fff-b725-fa5b2da2b423')\"\n",
              "              title=\"Convert this dataframe to an interactive table.\"\n",
              "              style=\"display:none;\">\n",
              "        \n",
              "  <svg xmlns=\"http://www.w3.org/2000/svg\" height=\"24px\"viewBox=\"0 0 24 24\"\n",
              "       width=\"24px\">\n",
              "    <path d=\"M0 0h24v24H0V0z\" fill=\"none\"/>\n",
              "    <path d=\"M18.56 5.44l.94 2.06.94-2.06 2.06-.94-2.06-.94-.94-2.06-.94 2.06-2.06.94zm-11 1L8.5 8.5l.94-2.06 2.06-.94-2.06-.94L8.5 2.5l-.94 2.06-2.06.94zm10 10l.94 2.06.94-2.06 2.06-.94-2.06-.94-.94-2.06-.94 2.06-2.06.94z\"/><path d=\"M17.41 7.96l-1.37-1.37c-.4-.4-.92-.59-1.43-.59-.52 0-1.04.2-1.43.59L10.3 9.45l-7.72 7.72c-.78.78-.78 2.05 0 2.83L4 21.41c.39.39.9.59 1.41.59.51 0 1.02-.2 1.41-.59l7.78-7.78 2.81-2.81c.8-.78.8-2.07 0-2.86zM5.41 20L4 18.59l7.72-7.72 1.47 1.35L5.41 20z\"/>\n",
              "  </svg>\n",
              "      </button>\n",
              "      \n",
              "  <style>\n",
              "    .colab-df-container {\n",
              "      display:flex;\n",
              "      flex-wrap:wrap;\n",
              "      gap: 12px;\n",
              "    }\n",
              "\n",
              "    .colab-df-convert {\n",
              "      background-color: #E8F0FE;\n",
              "      border: none;\n",
              "      border-radius: 50%;\n",
              "      cursor: pointer;\n",
              "      display: none;\n",
              "      fill: #1967D2;\n",
              "      height: 32px;\n",
              "      padding: 0 0 0 0;\n",
              "      width: 32px;\n",
              "    }\n",
              "\n",
              "    .colab-df-convert:hover {\n",
              "      background-color: #E2EBFA;\n",
              "      box-shadow: 0px 1px 2px rgba(60, 64, 67, 0.3), 0px 1px 3px 1px rgba(60, 64, 67, 0.15);\n",
              "      fill: #174EA6;\n",
              "    }\n",
              "\n",
              "    [theme=dark] .colab-df-convert {\n",
              "      background-color: #3B4455;\n",
              "      fill: #D2E3FC;\n",
              "    }\n",
              "\n",
              "    [theme=dark] .colab-df-convert:hover {\n",
              "      background-color: #434B5C;\n",
              "      box-shadow: 0px 1px 3px 1px rgba(0, 0, 0, 0.15);\n",
              "      filter: drop-shadow(0px 1px 2px rgba(0, 0, 0, 0.3));\n",
              "      fill: #FFFFFF;\n",
              "    }\n",
              "  </style>\n",
              "\n",
              "      <script>\n",
              "        const buttonEl =\n",
              "          document.querySelector('#df-6e9a4f11-49e1-4fff-b725-fa5b2da2b423 button.colab-df-convert');\n",
              "        buttonEl.style.display =\n",
              "          google.colab.kernel.accessAllowed ? 'block' : 'none';\n",
              "\n",
              "        async function convertToInteractive(key) {\n",
              "          const element = document.querySelector('#df-6e9a4f11-49e1-4fff-b725-fa5b2da2b423');\n",
              "          const dataTable =\n",
              "            await google.colab.kernel.invokeFunction('convertToInteractive',\n",
              "                                                     [key], {});\n",
              "          if (!dataTable) return;\n",
              "\n",
              "          const docLinkHtml = 'Like what you see? Visit the ' +\n",
              "            '<a target=\"_blank\" href=https://colab.research.google.com/notebooks/data_table.ipynb>data table notebook</a>'\n",
              "            + ' to learn more about interactive tables.';\n",
              "          element.innerHTML = '';\n",
              "          dataTable['output_type'] = 'display_data';\n",
              "          await google.colab.output.renderOutput(dataTable, element);\n",
              "          const docLink = document.createElement('div');\n",
              "          docLink.innerHTML = docLinkHtml;\n",
              "          element.appendChild(docLink);\n",
              "        }\n",
              "      </script>\n",
              "    </div>\n",
              "  </div>\n",
              "  "
            ],
            "text/plain": [
              "                                              Títulos    Precios  \\\n",
              "0                       Casa En Venta 120 M2  S. M. P    135.000   \n",
              "1   Venta De Casa De 140mÂ² Ubicado En Urb. Santa ...    490.000   \n",
              "2   Remato Acogedora Casa Cerca  C. Comercial Y Es...     89.000   \n",
              "3   Casa De Playa En Bujama Baja Km 90 Panamerican...    175.000   \n",
              "4   Vendo 3 Deptos En Urb. Lucyana - Carabayllo. U...     52.500   \n",
              "5                                    Casa De 03 Pisos    360.000   \n",
              "6                    Venta Casa En Cerro Azul CaÃ±ete     98.000   \n",
              "7   CabaÃ±as, Casas Pre Fabricadas, Drywall, Estru...      1.100   \n",
              "8                       Casa En Los Olivos Us$ 205000    205.000   \n",
              "9   Casa De Playa Asia Del Mar. Canchas De Tenis, ...    165.000   \n",
              "10                      Departamento Flat En 2do Piso    550.000   \n",
              "11  Amplia Casa 03 Dorm En Condominio Cerrado Con ...     73.500   \n",
              "12  Casa En Puente Piedra Carabayllo. Â¡terreno Co...     95.000   \n",
              "13  Casas Prefabricadas, Tablas Machihembradas De ...      1.100   \n",
              "14      Vendo Casa En Villaclub 3ra. Etapa Carabayllo    230.000   \n",
              "15                  Duplex C/piscina P/trebol J/prado    245.000   \n",
              "16                   Vendo Casa De 150 Mt2 Por  Viaje     40.000   \n",
              "17                       Casa En ZÃ¡rate Bien Ubicada    350.000   \n",
              "18                  Vendo Casa Por VÃ­aje De 150 Mt2      40.000   \n",
              "19                          Venta De Casa Primer Piso    130.000   \n",
              "20     Venta De Casa 480 MÂ² De 4 Pisos En Los Olivos          1   \n",
              "21  Ocasion. Por Viaje Vendo Casa Zona Exclusiva D...    650.000   \n",
              "22  Vendo Casa Con Ambiente Amplio Para Recepcione...  1.450.000   \n",
              "23  Ocasion Venta 60 MÂ² De Departamento En San Di...     45.000   \n",
              "24  Venta De Casa De 3 Pisos En UrbanizaciÃ³n San ...    300.000   \n",
              "25                     Casa De Playa En Punta Hermosa    149.000   \n",
              "26            Casa En Villa Maria Del Triunfo 90 Mtrs    120.000   \n",
              "27  Hermosa Casa Familiar, Cerca De Parques, Insti...  1.120.000   \n",
              "28  Casa En Santa Catalina Remate / La Victoria / ...    380.000   \n",
              "29                              Casa Terreno 90m2 Sjl     65.000   \n",
              "30  Vendo Casa En Villa El Salvador 100 MÂ², Cerca...     95.000   \n",
              "31         Vendo Hermosa Casa En El Cuadro/chaclacayo    115.000   \n",
              "32         Vendo Casa En Comas, Limite Con Los Olivos     90.000   \n",
              "33                      Vendo Casa 90mt En Carabayllo     65.000   \n",
              "34  Vendo Casa En Carabayllo,  Dos Pisos La Arbole...    110.000   \n",
              "35          Vendo Casa En Ventanilla Urb Jorge Chavez     55.000   \n",
              "36             OcasiÃ³n Remato Casa En Huaycan Zona C     75.900   \n",
              "37                        Venta De Casa En Carabayllo    350.000   \n",
              "38  7 Cuartos En El Segundo Piso 4 BaÃ±os Y 1 De S...     11.207   \n",
              "39    En Venta Casa 2 Pisos Urb Taboadita Bellavista     218.000   \n",
              "40                       Venta De Casa En Punta Negra    170.000   \n",
              "41  Venta De Casa En La Entrada De San Juan De Liu...     80.000   \n",
              "42  Mega Casa 200 Mt2 Con 2 Locales Comerciales - ...    270.000   \n",
              "43                                     Se Vende Casa      60.000   \n",
              "44                  Casa De Dos Pisos Azotea Y Garage    230.000   \n",
              "45  Casa De 2 Pisos Acogedora, Cerca A Mercados, C...    120.000   \n",
              "46  Me Venden!!! Hermosa Casa En Excelente Estado ...    355.000   \n",
              "47                Casa Dentro De Pasaje En San Miguel    110.000   \n",
              "\n",
              "                 Área n_habitaciones  \\\n",
              "0   120 mÂ² cubiertos       3 dorms.   \n",
              "1   700 mÂ² cubiertos      20 dorms.   \n",
              "2   171 mÂ² cubiertos       2 dorms.   \n",
              "3   337 mÂ² cubiertos       4 dorms.   \n",
              "4   400 mÂ² cubiertos      12 dorms.   \n",
              "5   510 mÂ² cubiertos       5 dorms.   \n",
              "6   120 mÂ² cubiertos       3 dorms.   \n",
              "7     9 mÂ² cubiertos        1 dorm.   \n",
              "8   240 mÂ² cubiertos       8 dorms.   \n",
              "9   120 mÂ² cubiertos       4 dorms.   \n",
              "10  210 mÂ² cubiertos       3 dorms.   \n",
              "11  110 mÂ² cubiertos       3 dorms.   \n",
              "12  185 mÂ² cubiertos       4 dorms.   \n",
              "13    9 mÂ² cubiertos        1 dorm.   \n",
              "14   75 mÂ² cubiertos       3 dorms.   \n",
              "15  320 mÂ² cubiertos       4 dorms.   \n",
              "16  120 mÂ² cubiertos       3 dorms.   \n",
              "17  445 mÂ² cubiertos      10 dorms.   \n",
              "18  120 mÂ² cubiertos       3 dorms.   \n",
              "19  160 mÂ² cubiertos       4 dorms.   \n",
              "20  480 mÂ² cubiertos      10 dorms.   \n",
              "21  350 mÂ² cubiertos       4 dorms.   \n",
              "22  380 mÂ² cubiertos              -   \n",
              "23   60 mÂ² cubiertos       3 dorms.   \n",
              "24  323 mÂ² cubiertos       6 dorms.   \n",
              "25  250 mÂ² cubiertos       7 dorms.   \n",
              "26   86 mÂ² cubiertos       4 dorms.   \n",
              "27  270 mÂ² cubiertos       4 dorms.   \n",
              "28  150 mÂ² cubiertos       8 dorms.   \n",
              "29   90 mÂ² cubiertos       2 dorms.   \n",
              "30  200 mÂ² cubiertos       4 dorms.   \n",
              "31  108 mÂ² cubiertos       4 dorms.   \n",
              "32  190 mÂ² cubiertos       5 dorms.   \n",
              "33   90 mÂ² cubiertos       4 dorms.   \n",
              "34  180 mÂ² cubiertos       6 dorms.   \n",
              "35  110 mÂ² cubiertos       2 dorms.   \n",
              "36   90 mÂ² cubiertos       4 dorms.   \n",
              "37  800 mÂ² cubiertos      10 dorms.   \n",
              "38  450 mÂ² cubiertos      10 dorms.   \n",
              "39  230 mÂ² cubiertos       4 dorms.   \n",
              "40  220 mÂ² cubiertos       4 dorms.   \n",
              "41   96 mÂ² cubiertos       2 dorms.   \n",
              "42  200 mÂ² cubiertos       2 dorms.   \n",
              "43   90 mÂ² cubiertos              -   \n",
              "44  160 mÂ² cubiertos       6 dorms.   \n",
              "45  160 mÂ² cubiertos       4 dorms.   \n",
              "46  337 mÂ² cubiertos       6 dorms.   \n",
              "47   92 mÂ² cubiertos       3 dorms.   \n",
              "\n",
              "                                                  URL  \n",
              "0   https://casa.mercadolibre.com.pe/MPE-608774509...  \n",
              "1   https://casa.mercadolibre.com.pe/MPE-608624798...  \n",
              "2   https://casa.mercadolibre.com.pe/MPE-608066678...  \n",
              "3   https://casa.mercadolibre.com.pe/MPE-606818941...  \n",
              "4   https://casa.mercadolibre.com.pe/MPE-606668533...  \n",
              "5   https://casa.mercadolibre.com.pe/MPE-606642202...  \n",
              "6   https://casa.mercadolibre.com.pe/MPE-607747502...  \n",
              "7   https://casa.mercadolibre.com.pe/MPE-608530952...  \n",
              "8   https://casa.mercadolibre.com.pe/MPE-606863169...  \n",
              "9   https://casa.mercadolibre.com.pe/MPE-608808591...  \n",
              "10  https://casa.mercadolibre.com.pe/MPE-608305767...  \n",
              "11  https://casa.mercadolibre.com.pe/MPE-608531476...  \n",
              "12  https://casa.mercadolibre.com.pe/MPE-607038787...  \n",
              "13  https://casa.mercadolibre.com.pe/MPE-606468006...  \n",
              "14  https://casa.mercadolibre.com.pe/MPE-607259195...  \n",
              "15  https://casa.mercadolibre.com.pe/MPE-608065045...  \n",
              "16  https://casa.mercadolibre.com.pe/MPE-607769355...  \n",
              "17  https://casa.mercadolibre.com.pe/MPE-606901704...  \n",
              "18  https://casa.mercadolibre.com.pe/MPE-607890644...  \n",
              "19  https://casa.mercadolibre.com.pe/MPE-608397847...  \n",
              "20  https://casa.mercadolibre.com.pe/MPE-606576610...  \n",
              "21  https://casa.mercadolibre.com.pe/MPE-608611849...  \n",
              "22  https://casa.mercadolibre.com.pe/MPE-607616574...  \n",
              "23  https://casa.mercadolibre.com.pe/MPE-608325952...  \n",
              "24  https://casa.mercadolibre.com.pe/MPE-608345174...  \n",
              "25  https://casa.mercadolibre.com.pe/MPE-608021110...  \n",
              "26  https://casa.mercadolibre.com.pe/MPE-607227101...  \n",
              "27  https://casa.mercadolibre.com.pe/MPE-608364218...  \n",
              "28  https://casa.mercadolibre.com.pe/MPE-607701234...  \n",
              "29  https://casa.mercadolibre.com.pe/MPE-608377105...  \n",
              "30  https://casa.mercadolibre.com.pe/MPE-606981163...  \n",
              "31  https://casa.mercadolibre.com.pe/MPE-608188546...  \n",
              "32  https://casa.mercadolibre.com.pe/MPE-608046768...  \n",
              "33  https://casa.mercadolibre.com.pe/MPE-607389336...  \n",
              "34  https://casa.mercadolibre.com.pe/MPE-608117729...  \n",
              "35  https://casa.mercadolibre.com.pe/MPE-607415314...  \n",
              "36  https://casa.mercadolibre.com.pe/MPE-608663185...  \n",
              "37  https://casa.mercadolibre.com.pe/MPE-608663280...  \n",
              "38  https://casa.mercadolibre.com.pe/MPE-608586737...  \n",
              "39  https://casa.mercadolibre.com.pe/MPE-608656846...  \n",
              "40  https://casa.mercadolibre.com.pe/MPE-608879542...  \n",
              "41  https://casa.mercadolibre.com.pe/MPE-608759154...  \n",
              "42  https://casa.mercadolibre.com.pe/MPE-608739858...  \n",
              "43  https://casa.mercadolibre.com.pe/MPE-608825703...  \n",
              "44  https://casa.mercadolibre.com.pe/MPE-608618462...  \n",
              "45  https://casa.mercadolibre.com.pe/MPE-608825228...  \n",
              "46  https://casa.mercadolibre.com.pe/MPE-608637109...  \n",
              "47  https://casa.mercadolibre.com.pe/MPE-608253589...  "
            ]
          },
          "metadata": {},
          "execution_count": 23
        }
      ]
    },
    {
      "cell_type": "code",
      "source": [
        "#Creando archivo CSV"
      ],
      "metadata": {
        "id": "oeu1d2FvrTyP"
      },
      "execution_count": null,
      "outputs": []
    }
  ]
}